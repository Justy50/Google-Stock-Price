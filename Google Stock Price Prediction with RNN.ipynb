{
 "cells": [
  {
   "cell_type": "markdown",
   "metadata": {},
   "source": [
    "# Recurrent Neural Network - Google Stock Price"
   ]
  },
  {
   "cell_type": "code",
   "execution_count": 1,
   "metadata": {},
   "outputs": [],
   "source": [
    "import numpy as np\n",
    "import pandas as pd\n",
    "import matplotlib.pyplot as plt"
   ]
  },
  {
   "cell_type": "code",
   "execution_count": 12,
   "metadata": {},
   "outputs": [],
   "source": [
    "# Importing the training set only\n",
    "\n",
    "dataset_train = pd.read_csv('Google_Stock_Price_Train.csv')\n",
    "training_set = dataset_train.iloc[:, 1:2].values"
   ]
  },
  {
   "cell_type": "code",
   "execution_count": 16,
   "metadata": {},
   "outputs": [],
   "source": [
    "# Feature Scaling our data\n",
    "\n",
    "from sklearn.preprocessing import MinMaxScaler\n",
    "sc = MinMaxScaler(feature_range = (0,1))\n",
    "training_set_scaled = sc.fit_transform(training_set)"
   ]
  },
  {
   "cell_type": "code",
   "execution_count": 18,
   "metadata": {},
   "outputs": [],
   "source": [
    "# Creating a Data Structure\n",
    "\n",
    "X_train = []\n",
    "y_train = []\n",
    "\n",
    "for i in range(60,1258):\n",
    "    X_train.append(training_set_scaled[i - 60:i, 0])\n",
    "    y_train.append(training_set_scaled[i, 0])\n",
    "X_train, y_train = np.array(X_train), np.array(y_train)"
   ]
  },
  {
   "cell_type": "code",
   "execution_count": 19,
   "metadata": {},
   "outputs": [
    {
     "name": "stdout",
     "output_type": "stream",
     "text": [
      "[[0.08581368 0.09701243 0.09433366 ... 0.07846566 0.08034452 0.08497656]\n",
      " [0.09701243 0.09433366 0.09156187 ... 0.08034452 0.08497656 0.08627874]\n",
      " [0.09433366 0.09156187 0.07984225 ... 0.08497656 0.08627874 0.08471612]\n",
      " ...\n",
      " [0.92106928 0.92438053 0.93048218 ... 0.95475854 0.95204256 0.95163331]\n",
      " [0.92438053 0.93048218 0.9299055  ... 0.95204256 0.95163331 0.95725128]\n",
      " [0.93048218 0.9299055  0.93113327 ... 0.95163331 0.95725128 0.93796041]]\n"
     ]
    }
   ],
   "source": [
    "print(X_train)"
   ]
  },
  {
   "cell_type": "code",
   "execution_count": 20,
   "metadata": {},
   "outputs": [
    {
     "name": "stdout",
     "output_type": "stream",
     "text": [
      "[0.08627874 0.08471612 0.07454052 ... 0.95725128 0.93796041 0.93688146]\n"
     ]
    }
   ],
   "source": [
    "print(y_train)"
   ]
  },
  {
   "cell_type": "code",
   "execution_count": 22,
   "metadata": {},
   "outputs": [
    {
     "data": {
      "text/plain": [
       "(1198, 60)"
      ]
     },
     "execution_count": 22,
     "metadata": {},
     "output_type": "execute_result"
    }
   ],
   "source": [
    "X_train.shape"
   ]
  },
  {
   "cell_type": "code",
   "execution_count": 23,
   "metadata": {},
   "outputs": [
    {
     "data": {
      "text/plain": [
       "(1198,)"
      ]
     },
     "execution_count": 23,
     "metadata": {},
     "output_type": "execute_result"
    }
   ],
   "source": [
    "y_train.shape"
   ]
  },
  {
   "cell_type": "code",
   "execution_count": 25,
   "metadata": {},
   "outputs": [],
   "source": [
    "# Reshaping the data\n",
    "X_train = np.reshape(X_train, (X_train.shape[0], X_train.shape[1], 1))"
   ]
  },
  {
   "cell_type": "code",
   "execution_count": 27,
   "metadata": {},
   "outputs": [
    {
     "data": {
      "text/plain": [
       "(1198, 60, 1)"
      ]
     },
     "execution_count": 27,
     "metadata": {},
     "output_type": "execute_result"
    }
   ],
   "source": [
    "X_train.shape # 3D Tensor Shape"
   ]
  },
  {
   "cell_type": "markdown",
   "metadata": {},
   "source": [
    "##### BUILDING OUR RNN"
   ]
  },
  {
   "cell_type": "code",
   "execution_count": 30,
   "metadata": {},
   "outputs": [],
   "source": [
    "# Importing our libraries\n",
    "\n",
    "from keras.models import Sequential\n",
    "from keras.layers import Dense\n",
    "from keras.layers import LSTM\n",
    "from keras.layers import Dropout"
   ]
  },
  {
   "cell_type": "code",
   "execution_count": 31,
   "metadata": {},
   "outputs": [],
   "source": [
    "# Initializing the RNN\n",
    "\n",
    "regressor = Sequential()"
   ]
  },
  {
   "cell_type": "code",
   "execution_count": 33,
   "metadata": {},
   "outputs": [],
   "source": [
    "# Adding the first LSTM layer & Dropout Regularization\n",
    "\n",
    "regressor.add(LSTM(units = 50, return_sequences = True, input_shape = (X_train.shape[1], 1)))\n",
    "regressor.add(Dropout(0.2))"
   ]
  },
  {
   "cell_type": "code",
   "execution_count": 34,
   "metadata": {},
   "outputs": [],
   "source": [
    "# Adding the second LSTM layer & Dropout Regularization\n",
    "\n",
    "regressor.add(LSTM(units = 50, return_sequences = True))\n",
    "regressor.add(Dropout(0.2))"
   ]
  },
  {
   "cell_type": "code",
   "execution_count": null,
   "metadata": {},
   "outputs": [],
   "source": [
    "# Adding the third LSTM layer & Dropout Regularization\n",
    "\n",
    "regressor.add(LSTM(units = 50, return_sequences = True))\n",
    "regressor.add(Dropout(0.2))"
   ]
  },
  {
   "cell_type": "code",
   "execution_count": 35,
   "metadata": {},
   "outputs": [],
   "source": [
    "# Adding the fourth LSTM layer & Dropout Regularization\n",
    "\n",
    "regressor.add(LSTM(units = 50))\n",
    "regressor.add(Dropout(0.2))"
   ]
  },
  {
   "cell_type": "code",
   "execution_count": 36,
   "metadata": {},
   "outputs": [],
   "source": [
    "# Adding the final output layer\n",
    "\n",
    "regressor.add(Dense(units = 1))"
   ]
  },
  {
   "cell_type": "code",
   "execution_count": 37,
   "metadata": {},
   "outputs": [],
   "source": [
    "# Compiling the RNN\n",
    "\n",
    "regressor.compile(optimizer = 'adam', loss = 'mean_squared_error')"
   ]
  },
  {
   "cell_type": "code",
   "execution_count": 38,
   "metadata": {},
   "outputs": [
    {
     "name": "stdout",
     "output_type": "stream",
     "text": [
      "Epoch 1/105\n",
      "38/38 [==============================] - 5s 121ms/step - loss: 0.0464\n",
      "Epoch 2/105\n",
      "38/38 [==============================] - 4s 113ms/step - loss: 0.0056\n",
      "Epoch 3/105\n",
      "38/38 [==============================] - 5s 120ms/step - loss: 0.0059\n",
      "Epoch 4/105\n",
      "38/38 [==============================] - 5s 121ms/step - loss: 0.0047\n",
      "Epoch 5/105\n",
      "38/38 [==============================] - 5s 121ms/step - loss: 0.0061\n",
      "Epoch 6/105\n",
      "38/38 [==============================] - 5s 123ms/step - loss: 0.0049\n",
      "Epoch 7/105\n",
      "38/38 [==============================] - 4s 115ms/step - loss: 0.0048\n",
      "Epoch 8/105\n",
      "38/38 [==============================] - 4s 114ms/step - loss: 0.0051\n",
      "Epoch 9/105\n",
      "38/38 [==============================] - 4s 117ms/step - loss: 0.0041\n",
      "Epoch 10/105\n",
      "38/38 [==============================] - 5s 129ms/step - loss: 0.0041\n",
      "Epoch 11/105\n",
      "38/38 [==============================] - 5s 127ms/step - loss: 0.0042\n",
      "Epoch 12/105\n",
      "38/38 [==============================] - 5s 128ms/step - loss: 0.0038\n",
      "Epoch 13/105\n",
      "38/38 [==============================] - 5s 133ms/step - loss: 0.0036\n",
      "Epoch 14/105\n",
      "38/38 [==============================] - 5s 133ms/step - loss: 0.0035\n",
      "Epoch 15/105\n",
      "38/38 [==============================] - 5s 133ms/step - loss: 0.0036\n",
      "Epoch 16/105\n",
      "38/38 [==============================] - 5s 121ms/step - loss: 0.0034\n",
      "Epoch 17/105\n",
      "38/38 [==============================] - 6s 146ms/step - loss: 0.0036 1s - loss\n",
      "Epoch 18/105\n",
      "38/38 [==============================] - 6s 152ms/step - loss: 0.0034\n",
      "Epoch 19/105\n",
      "38/38 [==============================] - 5s 140ms/step - loss: 0.0033\n",
      "Epoch 20/105\n",
      "38/38 [==============================] - 6s 170ms/step - loss: 0.0034\n",
      "Epoch 21/105\n",
      "38/38 [==============================] - 5s 126ms/step - loss: 0.0031\n",
      "Epoch 22/105\n",
      "38/38 [==============================] - 5s 134ms/step - loss: 0.0028\n",
      "Epoch 23/105\n",
      "38/38 [==============================] - 5s 127ms/step - loss: 0.0033\n",
      "Epoch 24/105\n",
      "38/38 [==============================] - 4s 115ms/step - loss: 0.0031\n",
      "Epoch 25/105\n",
      "38/38 [==============================] - 5s 132ms/step - loss: 0.0031\n",
      "Epoch 26/105\n",
      "38/38 [==============================] - 5s 126ms/step - loss: 0.0029\n",
      "Epoch 27/105\n",
      "38/38 [==============================] - 4s 117ms/step - loss: 0.0031\n",
      "Epoch 28/105\n",
      "38/38 [==============================] - 5s 125ms/step - loss: 0.0032\n",
      "Epoch 29/105\n",
      "38/38 [==============================] - 4s 118ms/step - loss: 0.0029\n",
      "Epoch 30/105\n",
      "38/38 [==============================] - 4s 115ms/step - loss: 0.0032\n",
      "Epoch 31/105\n",
      "38/38 [==============================] - 5s 126ms/step - loss: 0.0029\n",
      "Epoch 32/105\n",
      "38/38 [==============================] - 5s 119ms/step - loss: 0.0031\n",
      "Epoch 33/105\n",
      "38/38 [==============================] - 4s 106ms/step - loss: 0.0030\n",
      "Epoch 34/105\n",
      "38/38 [==============================] - 4s 106ms/step - loss: 0.0028\n",
      "Epoch 35/105\n",
      "38/38 [==============================] - 4s 108ms/step - loss: 0.0029\n",
      "Epoch 36/105\n",
      "38/38 [==============================] - 4s 102ms/step - loss: 0.0032\n",
      "Epoch 37/105\n",
      "38/38 [==============================] - 4s 102ms/step - loss: 0.0027\n",
      "Epoch 38/105\n",
      "38/38 [==============================] - 4s 106ms/step - loss: 0.0027\n",
      "Epoch 39/105\n",
      "38/38 [==============================] - 4s 102ms/step - loss: 0.0024\n",
      "Epoch 40/105\n",
      "38/38 [==============================] - 4s 102ms/step - loss: 0.0023\n",
      "Epoch 41/105\n",
      "38/38 [==============================] - 4s 110ms/step - loss: 0.0024\n",
      "Epoch 42/105\n",
      "38/38 [==============================] - 4s 104ms/step - loss: 0.0024\n",
      "Epoch 43/105\n",
      "38/38 [==============================] - 4s 106ms/step - loss: 0.0023\n",
      "Epoch 44/105\n",
      "38/38 [==============================] - 4s 115ms/step - loss: 0.0026\n",
      "Epoch 45/105\n",
      "38/38 [==============================] - 4s 106ms/step - loss: 0.0025\n",
      "Epoch 46/105\n",
      "38/38 [==============================] - 4s 104ms/step - loss: 0.0025\n",
      "Epoch 47/105\n",
      "38/38 [==============================] - 4s 104ms/step - loss: 0.0024\n",
      "Epoch 48/105\n",
      "38/38 [==============================] - 4s 105ms/step - loss: 0.0022\n",
      "Epoch 49/105\n",
      "38/38 [==============================] - 4s 104ms/step - loss: 0.0023\n",
      "Epoch 50/105\n",
      "38/38 [==============================] - 4s 103ms/step - loss: 0.0023\n",
      "Epoch 51/105\n",
      "38/38 [==============================] - 4s 106ms/step - loss: 0.0022\n",
      "Epoch 52/105\n",
      "38/38 [==============================] - 5s 135ms/step - loss: 0.0022\n",
      "Epoch 53/105\n",
      "38/38 [==============================] - 6s 158ms/step - loss: 0.0022\n",
      "Epoch 54/105\n",
      "38/38 [==============================] - 5s 141ms/step - loss: 0.0024\n",
      "Epoch 55/105\n",
      "38/38 [==============================] - 5s 141ms/step - loss: 0.0022\n",
      "Epoch 56/105\n",
      "38/38 [==============================] - 5s 127ms/step - loss: 0.0023\n",
      "Epoch 57/105\n",
      "38/38 [==============================] - 4s 118ms/step - loss: 0.0022\n",
      "Epoch 58/105\n",
      "38/38 [==============================] - 5s 123ms/step - loss: 0.0022\n",
      "Epoch 59/105\n",
      "38/38 [==============================] - 5s 124ms/step - loss: 0.0019\n",
      "Epoch 60/105\n",
      "38/38 [==============================] - 4s 118ms/step - loss: 0.0020\n",
      "Epoch 61/105\n",
      "38/38 [==============================] - 4s 117ms/step - loss: 0.0020\n",
      "Epoch 62/105\n",
      "38/38 [==============================] - 5s 122ms/step - loss: 0.0021\n",
      "Epoch 63/105\n",
      "38/38 [==============================] - 5s 123ms/step - loss: 0.0018\n",
      "Epoch 64/105\n",
      "38/38 [==============================] - 4s 118ms/step - loss: 0.0019\n",
      "Epoch 65/105\n",
      "38/38 [==============================] - 5s 122ms/step - loss: 0.0020\n",
      "Epoch 66/105\n",
      "38/38 [==============================] - 5s 119ms/step - loss: 0.0020\n",
      "Epoch 67/105\n",
      "38/38 [==============================] - 5s 127ms/step - loss: 0.0018\n",
      "Epoch 68/105\n",
      "38/38 [==============================] - 5s 121ms/step - loss: 0.0018\n",
      "Epoch 69/105\n",
      "38/38 [==============================] - 5s 123ms/step - loss: 0.0017\n",
      "Epoch 70/105\n",
      "38/38 [==============================] - 5s 122ms/step - loss: 0.0017\n",
      "Epoch 71/105\n",
      "38/38 [==============================] - 5s 124ms/step - loss: 0.0017\n",
      "Epoch 72/105\n",
      "38/38 [==============================] - 5s 131ms/step - loss: 0.0017\n",
      "Epoch 73/105\n",
      "38/38 [==============================] - 5s 119ms/step - loss: 0.0018\n",
      "Epoch 74/105\n",
      "38/38 [==============================] - 4s 112ms/step - loss: 0.0017\n",
      "Epoch 75/105\n",
      "38/38 [==============================] - 5s 132ms/step - loss: 0.0017\n",
      "Epoch 76/105\n",
      "38/38 [==============================] - 6s 146ms/step - loss: 0.0017\n",
      "Epoch 77/105\n",
      "38/38 [==============================] - 5s 134ms/step - loss: 0.0017\n",
      "Epoch 78/105\n",
      "38/38 [==============================] - 4s 116ms/step - loss: 0.0018\n",
      "Epoch 79/105\n",
      "38/38 [==============================] - 5s 119ms/step - loss: 0.0015\n",
      "Epoch 80/105\n",
      "38/38 [==============================] - 5s 129ms/step - loss: 0.0017\n",
      "Epoch 81/105\n",
      "38/38 [==============================] - 5s 121ms/step - loss: 0.0014\n",
      "Epoch 82/105\n",
      "38/38 [==============================] - 4s 117ms/step - loss: 0.0014\n",
      "Epoch 83/105\n",
      "38/38 [==============================] - 5s 122ms/step - loss: 0.0015\n",
      "Epoch 84/105\n",
      "38/38 [==============================] - 5s 122ms/step - loss: 0.0014\n",
      "Epoch 85/105\n",
      "38/38 [==============================] - 5s 128ms/step - loss: 0.0014\n",
      "Epoch 86/105\n",
      "38/38 [==============================] - 5s 120ms/step - loss: 0.0014\n",
      "Epoch 87/105\n",
      "38/38 [==============================] - 5s 120ms/step - loss: 0.0013\n",
      "Epoch 88/105\n",
      "38/38 [==============================] - 5s 119ms/step - loss: 0.0015\n",
      "Epoch 89/105\n",
      "38/38 [==============================] - 5s 119ms/step - loss: 0.0015\n",
      "Epoch 90/105\n",
      "38/38 [==============================] - 5s 121ms/step - loss: 0.0015\n",
      "Epoch 91/105\n",
      "38/38 [==============================] - 4s 117ms/step - loss: 0.0013\n",
      "Epoch 92/105\n",
      "38/38 [==============================] - 5s 119ms/step - loss: 0.0016\n",
      "Epoch 93/105\n",
      "38/38 [==============================] - 5s 118ms/step - loss: 0.0014\n",
      "Epoch 94/105\n",
      "38/38 [==============================] - 5s 130ms/step - loss: 0.0015\n",
      "Epoch 95/105\n",
      "38/38 [==============================] - 5s 122ms/step - loss: 0.0014\n",
      "Epoch 96/105\n",
      "38/38 [==============================] - 4s 110ms/step - loss: 0.0014\n",
      "Epoch 97/105\n",
      "38/38 [==============================] - 4s 108ms/step - loss: 0.0012\n",
      "Epoch 98/105\n",
      "38/38 [==============================] - 4s 104ms/step - loss: 0.0013\n",
      "Epoch 99/105\n"
     ]
    },
    {
     "name": "stdout",
     "output_type": "stream",
     "text": [
      "38/38 [==============================] - 4s 105ms/step - loss: 0.0014\n",
      "Epoch 100/105\n",
      "38/38 [==============================] - 4s 106ms/step - loss: 0.0013\n",
      "Epoch 101/105\n",
      "38/38 [==============================] - 4s 104ms/step - loss: 0.0013\n",
      "Epoch 102/105\n",
      "38/38 [==============================] - 4s 104ms/step - loss: 0.0012\n",
      "Epoch 103/105\n",
      "38/38 [==============================] - 4s 104ms/step - loss: 0.0014\n",
      "Epoch 104/105\n",
      "38/38 [==============================] - 4s 105ms/step - loss: 0.0012\n",
      "Epoch 105/105\n",
      "38/38 [==============================] - 4s 104ms/step - loss: 0.0014\n"
     ]
    },
    {
     "data": {
      "text/plain": [
       "<tensorflow.python.keras.callbacks.History at 0x1beb39b0908>"
      ]
     },
     "execution_count": 38,
     "metadata": {},
     "output_type": "execute_result"
    }
   ],
   "source": [
    "# Fitting the RNN to the training set\n",
    "\n",
    "regressor.fit(X_train, y_train, epochs = 105, batch_size = 32)"
   ]
  },
  {
   "cell_type": "code",
   "execution_count": 42,
   "metadata": {},
   "outputs": [],
   "source": [
    "# Making the predictions and visualizing the final results\n",
    "\n",
    "dataset_test = pd.read_csv('Google_Stock_Price_Test.csv')\n",
    "real_stock_price = dataset_test.iloc[:, 1:2].values"
   ]
  },
  {
   "cell_type": "code",
   "execution_count": 66,
   "metadata": {},
   "outputs": [],
   "source": [
    "dataset_total = pd.concat((dataset_train['Open'], dataset_test['Open']), axis = 0)\n",
    "inputs = dataset_total[len(dataset_total) - len(dataset_test) - 60:].values\n",
    "inputs = inputs.reshape(-1,1)\n",
    "inputs = sc.transform(inputs)\n",
    "X_test = []\n",
    "for i in range(60,80):\n",
    "    X_test.append(inputs[i - 60:i, 0])\n",
    "X_test = np.array(X_test)\n",
    "X_test = np.reshape(X_test, (X_test.shape[0], X_test.shape[1], 1))\n",
    "predicted_stock_prices = regressor.predict(X_test)\n",
    "predicted_stock_prices = sc.inverse_transform(predicted_stock_prices)"
   ]
  },
  {
   "cell_type": "code",
   "execution_count": 67,
   "metadata": {
    "collapsed": true
   },
   "outputs": [
    {
     "data": {
      "text/plain": [
       "array([[780.60156],\n",
       "       [777.8978 ],\n",
       "       [780.5556 ],\n",
       "       [782.27045],\n",
       "       [785.9144 ],\n",
       "       [792.5177 ],\n",
       "       [796.44257],\n",
       "       [795.88654],\n",
       "       [795.6136 ],\n",
       "       [796.28845],\n",
       "       [797.04517],\n",
       "       [797.20856],\n",
       "       [797.17834],\n",
       "       [798.1644 ],\n",
       "       [799.1933 ],\n",
       "       [805.9837 ],\n",
       "       [813.4035 ],\n",
       "       [819.59204],\n",
       "       [820.3342 ],\n",
       "       [811.157  ]], dtype=float32)"
      ]
     },
     "execution_count": 67,
     "metadata": {},
     "output_type": "execute_result"
    }
   ],
   "source": [
    "predicted_stock_prices"
   ]
  },
  {
   "cell_type": "code",
   "execution_count": 74,
   "metadata": {},
   "outputs": [
    {
     "data": {
      "image/png": "[encoded data removed]",
      "text/plain": [
       "<Figure size 720x432 with 1 Axes>"
      ]
     },
     "metadata": {},
     "output_type": "display_data"
    }
   ],
   "source": [
    "sns.set_style('whitegrid')\n",
    "plt.figure(figsize = (10,6))\n",
    "plt.plot(real_stock_price, color = 'red', label = 'Real Stock Price')\n",
    "plt.plot(predicted_stock_prices, color = 'blue', label = 'Predicted Stock Price')\n",
    "plt.title('Real Google Stock Vs Predicted Google Stock')\n",
    "plt.xlabel('Time')\n",
    "plt.ylabel('Stock Prices')\n",
    "plt.legend()\n",
    "plt.show()"
   ]
  },
  {
   "cell_type": "code",
   "execution_count": null,
   "metadata": {},
   "outputs": [],
   "source": []
  }
 ],
 "metadata": {
  "kernelspec": {
   "display_name": "Python 3",
   "language": "python",
   "name": "python3"
  },
  "language_info": {
   "codemirror_mode": {
    "name": "ipython",
    "version": 3
   },
   "file_extension": ".py",
   "mimetype": "text/x-python",
   "name": "python",
   "nbconvert_exporter": "python",
   "pygments_lexer": "ipython3",
   "version": "3.7.6"
  }
 },
 "nbformat": 4,
 "nbformat_minor": 4
}
